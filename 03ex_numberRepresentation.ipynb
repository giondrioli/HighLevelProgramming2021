{
 "cells": [
  {
   "cell_type": "markdown",
   "metadata": {},
   "source": [
    "1\\. Write a function that converts numbers among the bin, dec, and hex representations (bin<->dec<->hex)"
   ]
  },
  {
   "cell_type": "code",
   "execution_count": 1,
   "metadata": {},
   "outputs": [
    {
     "name": "stdout",
     "output_type": "stream",
     "text": [
      "0b10111\n",
      "0x17\n",
      "23\n",
      "0x17\n",
      "23\n",
      "0b10111\n"
     ]
    }
   ],
   "source": [
    "def conversion(num, s):\n",
    "    if(s == \"dec2bin\"):\n",
    "        return bin(num)\n",
    "    if(s == \"dec2hex\"):\n",
    "        return hex(num)\n",
    "    if(s == \"bin2dec\"):\n",
    "        return int(num, 2)\n",
    "    if(s == \"hex2dec\"):\n",
    "        return int(num, 16)\n",
    "    if(s == \"bin2hex\"):\n",
    "        d = int(num, 2)\n",
    "        return hex(d)\n",
    "    if(s == \"hex2bin\"):\n",
    "        d = int(num, 16)\n",
    "        return bin(d)\n",
    "\n",
    "a = 23\n",
    "print(conversion(a, \"dec2bin\"))\n",
    "print(conversion(a, \"dec2hex\"))\n",
    "\n",
    "b = bin(a)\n",
    "print(conversion(b, \"bin2dec\"))\n",
    "print(conversion(b, \"bin2hex\"))\n",
    "\n",
    "h = hex(a)\n",
    "print(conversion(h, \"hex2dec\"))\n",
    "print(conversion(h, \"hex2bin\"))"
   ]
  },
  {
   "cell_type": "markdown",
   "metadata": {},
   "source": [
    "2\\. Write a function that converts a 32 bit word into a single precision floating point (i.e. interprets the various bits as sign, mantissa and exponent) and check its validity."
   ]
  },
  {
   "cell_type": "code",
   "execution_count": 2,
   "metadata": {},
   "outputs": [
    {
     "name": "stdout",
     "output_type": "stream",
     "text": [
      "-5.5\n"
     ]
    }
   ],
   "source": [
    "def str2float(w):\n",
    "    bias = 127\n",
    "    exp = 0\n",
    "    mantissa = 1\n",
    "    index = 7\n",
    "    if(w[0] == '0'):\n",
    "        sign = 1\n",
    "    if (w[0] == '1'):\n",
    "        sign = -1\n",
    "    for i in range(1, 9):\n",
    "        exp += int(w[i])*(2**index)\n",
    "        index = index - 1\n",
    "    index = 1\n",
    "    for i in range(9, 32):\n",
    "        mantissa += int(w[i])*(2**-index)\n",
    "        index = index + 1 \n",
    "    f = sign * mantissa * (2**(exp-bias))\n",
    "    return f\n",
    "\n",
    "s = \"11000000101100000000000000000000\"   # example taken from lesson 3\n",
    "\n",
    "print(str2float(s))"
   ]
  },
  {
   "cell_type": "markdown",
   "metadata": {},
   "source": [
    "3\\. Write a program to determine the underflow and overflow limits (within a factor of 2) for python on your computer. \n",
    "\n",
    "**Tip**: define two variables initialized to 1 and halve/double them for a sufficient amount of times to exceed the under/over-flow limits  "
   ]
  },
  {
   "cell_type": "code",
   "execution_count": 3,
   "metadata": {},
   "outputs": [
    {
     "name": "stdout",
     "output_type": "stream",
     "text": [
      "Number of divisions to reach underflow: 1075\n",
      "So the lowest limit is 2 to the power of -1074\n",
      "Number of multiplications to reach overflow: 1024\n",
      "So the highest limit is 2 to the power of 1023\n"
     ]
    }
   ],
   "source": [
    "low = up = 1.0\n",
    "N = 1200\n",
    "c = 0\n",
    "while low != 0:\n",
    "    low = low/2\n",
    "    c = c+1\n",
    "    \n",
    "print(\"Number of divisions to reach underflow:\", c)\n",
    "print(\"So the lowest limit is 2 to the power of\", -(c-1))\n",
    "\n",
    "c = 0\n",
    "while up != float('inf'):\n",
    "    up = up*2\n",
    "    c = c+1\n",
    "    \n",
    "print(\"Number of multiplications to reach overflow:\", c)    \n",
    "print(\"So the highest limit is 2 to the power of\", c-1)"
   ]
  },
  {
   "cell_type": "markdown",
   "metadata": {},
   "source": [
    "4\\. Write a program to determine the machine precision\n",
    "\n",
    "**Tip**: define a new variable by adding an increasingly smaller value (in the same way as the previous problem) and check when the addition starts to have no effect on the number"
   ]
  },
  {
   "cell_type": "code",
   "execution_count": 4,
   "metadata": {},
   "outputs": [
    {
     "name": "stdout",
     "output_type": "stream",
     "text": [
      "Sum is not affected anymore after 54 sums\n",
      "This means that the smallest number that can be added properly is 2.220446049250313e-16\n"
     ]
    }
   ],
   "source": [
    "variable = 1\n",
    "to_add = 2\n",
    "N = 1000\n",
    "c = 0\n",
    "old_variable = 0\n",
    "\n",
    "while(variable != old_variable):\n",
    "    old_variable = variable\n",
    "    to_add = to_add/2\n",
    "    variable = variable + to_add\n",
    "    c = c+1\n",
    "    \n",
    "print(\"Sum is not affected anymore after\",  c, \"sums\")\n",
    "print(\"This means that the smallest number that can be added properly is\", to_add*2)"
   ]
  },
  {
   "cell_type": "markdown",
   "metadata": {},
   "source": [
    "5\\. Write a function that takes in input three parameters $a$, $b$ and $c$ and prints out the two solutions to the quadratic equation $ax^2+bx+c=0$ using the standard formula:\n",
    "$$\n",
    "x=\\frac{-b\\pm\\sqrt{b^2-4ac}}{2a}\n",
    "$$\n",
    "\n",
    "(a) use the program to compute the solution for $a=0.001$, $b=1000$ and $c=0.001$\n",
    "\n",
    "(b) re-express the standard solution formula by multiplying the numerator and the denominator by $-b\\mp\\sqrt{b^2-4ac}$ and again find the solution for $a=0.001$, $b=1000$ and $c=0.001$. How does it compare with what has been previously obtained, and why?\n",
    "\n",
    "(c) write a function that computes the roots of a quadratic equation accurately in all cases"
   ]
  },
  {
   "cell_type": "code",
   "execution_count": 5,
   "metadata": {},
   "outputs": [
    {
     "name": "stdout",
     "output_type": "stream",
     "text": [
      "The correct solutions can be found using numpy, and they are [-1.e+06 -1.e-06]\n",
      "The two solutions with quadratic_sol are: -9.999894245993346e-07 -999999.999999\n",
      "d: 999999.999996\n",
      "The two solutions with multiplied_quadratic_sol are: -1.000000000001e-06 -1000010.5755125057\n",
      "Wrong operation: -1.999978849198669e-09 \n",
      "It should be -2e-09\n",
      "The two correct solutions are: -1.000000000001e-06 -999999.999999\n"
     ]
    }
   ],
   "source": [
    "import numpy as np\n",
    "from math import sqrt\n",
    "\n",
    "def quadratic_sol(a, b, c):\n",
    "    d = b*b - 4*a*c\n",
    "    if d > 0:\n",
    "        x1 = (-b + sqrt(d))/(2*a)\n",
    "        x2 = (-b - sqrt(d))/(2*a)\n",
    "        print(\"The two solutions with quadratic_sol are:\", x1, x2)\n",
    "    if d == 0:\n",
    "        x1 = -b/(2*a)\n",
    "        print(\"The only solution is\", x1)\n",
    "    if d < 0:\n",
    "        print(\"No real solutions\")\n",
    "        \n",
    "def multiplied_quadratic_sol(a, b, c):\n",
    "    d = b**2 - 4*a*c\n",
    "    print(\"d:\", d)\n",
    "    m1 = -b - sqrt(d)\n",
    "    m2 = -b + sqrt(d)\n",
    "    if d > 0:\n",
    "        x1 = (2*c)/(-b - sqrt(d))\n",
    "        x2 = (2*c)/(-b + sqrt(d))\n",
    "        print(\"The two solutions with multiplied_quadratic_sol are:\", x1, x2)\n",
    "    if d == 0:\n",
    "        x1 = (-b * -b)/(2*a * -b)\n",
    "        print(\"The only solution is\", x1)\n",
    "    if d < 0:\n",
    "        print(\"No real solutions\")\n",
    "        \n",
    "def correct_quadratic_sol(a, b, c):\n",
    "    d = b**2 - 4*a*c\n",
    "    if d > 0:\n",
    "        x1 = (2*c)/(-b - sqrt(d))\n",
    "        x2 = (-b - sqrt(d))/(2*a)\n",
    "        print(\"The two correct solutions are:\", x1, x2)    \n",
    "    if d == 0:\n",
    "        x1 = -b/(2*a)\n",
    "        print(\"The only solution is\", x1)\n",
    "    if d < 0:\n",
    "        print(\"No real solutions\")\n",
    "\n",
    "a = 0.001\n",
    "b = 1000\n",
    "c = 0.001\n",
    "l = [a, b, c]\n",
    "print(\"The correct solutions can be found using numpy, and they are\", np.roots(l))\n",
    "      \n",
    "quadratic_sol(a, b, c)\n",
    "multiplied_quadratic_sol(a, b, c)\n",
    "\n",
    "# In the first function x1 is wrong, in the second function x2 is wrong\n",
    "# To find the correct solutions we need to decompose in small steps and avoid the problematic operation\n",
    "# The problem is the operation -b + sqrt(d), that is in x1 for the first function and in x2 for the second function\n",
    "\n",
    "error = -b + sqrt(b**2 - 4*a*c)\n",
    "print(\"Wrong operation:\", error, \"\\nIt should be -2e-09\")\n",
    "\n",
    "correct_quadratic_sol(a, b, c)"
   ]
  },
  {
   "cell_type": "markdown",
   "metadata": {},
   "source": [
    "6\\. Write a program that implements the function $f(x)=x(x−1)$\n",
    "\n",
    "(a) Calculate the derivative of the function at the point $x = 1$ using the derivative definition:\n",
    "\n",
    "$$\n",
    "\\frac{{\\rm d}f}{{\\rm d}x} = \\lim_{\\delta\\to0} \\frac{f(x+\\delta)-f(x)}{\\delta}\n",
    "$$\n",
    "\n",
    "with $\\delta = 10^{−2}$. Calculate the true value of the same derivative analytically and compare it with the answer your program gives. The two will not agree perfectly. Why?\n",
    "\n",
    "(b) Repeat the calculation for $\\delta = 10^{−4}, 10^{−6}, 10^{−8}, 10^{−10}, 10^{−12}$ and $10^{−14}$. How does the accuracy scales with $\\delta$?"
   ]
  },
  {
   "cell_type": "code",
   "execution_count": 6,
   "metadata": {},
   "outputs": [
    {
     "name": "stdout",
     "output_type": "stream",
     "text": [
      "The analitic derivative in 1 is 1 , while the definition returns 1.010000000000001\n",
      "Using the definition, with delta equal to 0.0001 the result is 1.0000999999998899\n",
      "Using the definition, with delta equal to 1e-06 the result is 1.0000009999177333\n",
      "Using the definition, with delta equal to 1e-08 the result is 1.0000000039225287\n",
      "Using the definition, with delta equal to 1e-10 the result is 1.000000082840371\n",
      "Using the definition, with delta equal to 1e-12 the result is 1.0000889005833413\n",
      "Using the definition, with delta equal to 1e-14 the result is 0.9992007221626509\n"
     ]
    }
   ],
   "source": [
    "def f(x):\n",
    "    return x*(x-1)\n",
    "\n",
    "def derivative(x, delta):\n",
    "    return (f(x + delta) - f(x)) / delta\n",
    "\n",
    "def analitic_derivative(x):\n",
    "    return 2*x - 1\n",
    "\n",
    "def understanding(x, delta):\n",
    "    print(f(x + delta))\n",
    "    print(f(x + delta) - f(x))\n",
    "    print((f(x + delta) - f(x)) / delta)\n",
    "\n",
    "delta = 0.01\n",
    "print(\"The analitic derivative in 1 is\", analitic_derivative(1), \", while the definition returns\", derivative(1, delta))\n",
    "\n",
    "delta_list = [10**-4, 10**-6, 10**-8, 10**-10, 10**-12, 10**-14]\n",
    "\n",
    "for d in delta_list:\n",
    "    print(\"Using the definition, with delta equal to\", d, \"the result is\", derivative(1, d))\n",
    "    \n",
    "# The result of the derivative is closer to the analitic solution with smaller values of delta, up to the value\n",
    "# 10^(-8). Subsequently, the value starts to get farther from the analitic solution.\n",
    "# As already said, the closest result is obtained for delta equal to 10^(-8)"
   ]
  },
  {
   "cell_type": "markdown",
   "metadata": {},
   "source": [
    "7\\. Consider the integral of the semicircle of radius 1:\n",
    "$$\n",
    "I=\\int_{-1}^{1} \\sqrt(1-x^2) {\\rm d}x\n",
    "$$\n",
    "which is known to be $I=\\frac{\\pi}{2}=1.57079632679...$.\n",
    "\n",
    "Alternatively we can use the Riemann definition of the integral:\n",
    "$$\n",
    "I=\\lim_{N\\to\\infty} \\sum_{k=1}^{N} h y_k \n",
    "$$\n",
    "\n",
    "with $h=2/N$ the width of each of the $N$ slices the domain is divided into and where\n",
    "$y_k$ is the value of the function at the $k-$th slice.\n",
    "\n",
    "(a) Write a program to compute the integral with $N=100$. How does the result compare to the true value?\n",
    "\n",
    "(b) How much can $N$ be increased if the computation needs to be run in less than a second? What is the gain in running it for 1 minute? \n"
   ]
  },
  {
   "cell_type": "code",
   "execution_count": 7,
   "metadata": {
    "scrolled": true
   },
   "outputs": [
    {
     "name": "stdout",
     "output_type": "stream",
     "text": [
      "The result returned by the function is 1.5534179294048955\n",
      "The difference with respect to the true result pi/2 is 0.01737839739000102\n",
      "Value of N: 1000100 time for the execution: 0.5772354602813721 seconds\n",
      "Value of N: 1100100 time for the execution: 0.6400268077850342 seconds\n",
      "Value of N: 1200100 time for the execution: 0.6886045932769775 seconds\n",
      "Value of N: 1300100 time for the execution: 0.7481505870819092 seconds\n",
      "Value of N: 1400100 time for the execution: 0.801471471786499 seconds\n",
      "Value of N: 1420100 time for the execution: 0.8131463527679443 seconds\n",
      "Value of N: 1440100 time for the execution: 0.8377001285552979 seconds\n",
      "Value of N: 1460100 time for the execution: 0.8450899124145508 seconds\n",
      "Value of N: 1480100 time for the execution: 0.8560101985931396 seconds\n",
      "Value of N: 1500100 time for the execution: 0.8658459186553955 seconds\n",
      "Value of N: 1520100 time for the execution: 0.8860116004943848 seconds\n",
      "Value of N: 1540100 time for the execution: 0.8951647281646729 seconds\n",
      "Value of N: 1560100 time for the execution: 0.9108395576477051 seconds\n",
      "Value of N: 1580100 time for the execution: 0.9142522811889648 seconds\n",
      "Value of N: 1600100 time for the execution: 0.9316043853759766 seconds\n",
      "Value of N: 1620100 time for the execution: 0.9368455410003662 seconds\n",
      "Value of N: 1640100 time for the execution: 0.9404606819152832 seconds\n",
      "Value of N: 1660100 time for the execution: 0.9407792091369629 seconds\n",
      "Value of N: 1680100 time for the execution: 0.9547066688537598 seconds\n",
      "Value of N: 1700100 time for the execution: 0.9821836948394775 seconds\n",
      "Value of N: 1700101 time for the execution: 0.9731936454772949 seconds\n",
      "Value of N: 1720101 time for the execution: 0.9694368839263916 seconds\n",
      "Value of N: 1740101 time for the execution: 0.9855525493621826 seconds\n",
      "Value of N: 1740102 time for the execution: 0.9809634685516357 seconds\n",
      "Value of N: 1740103 time for the execution: 0.9924547672271729 seconds\n",
      "Value of N: 1740104 time for the execution: 0.9882009029388428 seconds\n",
      "Value of N: 1740105 time for the execution: 0.9932951927185059 seconds\n",
      "Value of N: 1740106 time for the execution: 0.9918389320373535 seconds\n",
      "Value of N: 1740107 time for the execution: 0.9917733669281006 seconds\n",
      "Value of N: 1740108 time for the execution: 0.9969854354858398 seconds\n",
      "Value of N: 1740109 time for the execution: 1.0046145915985107 seconds\n",
      "Max N to have an execution time lower than one second: 1740108\n",
      "With N equal to 10^8 the time needed is 57.45754146575928 sec and the final result is 1.570796311085263\n",
      "In this case, the difference with respect to the true value is 1.5709633593985473e-08\n",
      "So with such a large N the final result is much more close to the true value with respect to N = 100\n"
     ]
    }
   ],
   "source": [
    "import time\n",
    "from math import pi\n",
    "\n",
    "def f(x):\n",
    "    return sqrt(1 - x**2)\n",
    "\n",
    "def riemann_integral(N):\n",
    "    h = 2/N\n",
    "    domain_points = np.linspace(-1, 1, N, True)\n",
    "    yk = []\n",
    "    for p in domain_points:\n",
    "        yk.append(f(p))\n",
    "    return np.sum(h*np.array(yk))\n",
    "\n",
    "print(\"The result returned by the function is\", riemann_integral(100))\n",
    "print(\"The difference with respect to the true result pi/2 is\", abs(pi/2 - riemann_integral(100)))\n",
    "\n",
    "t = 0\n",
    "max_N = 100\n",
    "\n",
    "while(t < 1):                     #different increments for N, based on the time needed for the algorithm:\n",
    "    if(t >= 0.975):                #if it is << 1 it doesn't make sense to increment N of a small amount\n",
    "        max_N = max_N +1          #if it is close to one second, we increment its value by one, very slowly\n",
    "    if(t >= 0.8 and t < 0.975):   \n",
    "        max_N = max_N + 20000\n",
    "    if(t >= 0.3 and t < 0.8):\n",
    "        max_N = max_N + 100000\n",
    "    if(t < 0.3):\n",
    "        max_N = max_N + 1000000 \n",
    "    start = time.time()\n",
    "    riemann_integral(max_N)\n",
    "    end = time.time()\n",
    "    t = end - start\n",
    "    print(\"Value of N:\", max_N, \"time for the execution:\", t, \"seconds\")\n",
    "    \n",
    "print(\"Max N to have an execution time lower than one second:\", max_N - 1)   #almost one second\n",
    "\n",
    "start = time.time()\n",
    "r = riemann_integral(100000000)    #almost one minute (found after some attempts)\n",
    "end = time.time()\n",
    "\n",
    "print(\"With N equal to 10^8 the time needed is\", end - start, \"sec and the final result is\", r)\n",
    "print(\"In this case, the difference with respect to the true value is\", abs(pi/2 - r))\n",
    "print(\"So with such a large N the final result is much more close to the true value with respect to N = 100\")"
   ]
  }
 ],
 "metadata": {
  "kernelspec": {
   "display_name": "Python 3",
   "language": "python",
   "name": "python3"
  },
  "language_info": {
   "codemirror_mode": {
    "name": "ipython",
    "version": 3
   },
   "file_extension": ".py",
   "mimetype": "text/x-python",
   "name": "python",
   "nbconvert_exporter": "python",
   "pygments_lexer": "ipython3",
   "version": "3.8.8"
  }
 },
 "nbformat": 4,
 "nbformat_minor": 2
}
