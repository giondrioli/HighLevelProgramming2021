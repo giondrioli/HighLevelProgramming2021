{
 "cells": [
  {
   "cell_type": "markdown",
   "metadata": {},
   "source": [
    "1. Write the following expressions using the list comprehension"
   ]
  },
  {
   "cell_type": "code",
   "execution_count": 1,
   "metadata": {},
   "outputs": [
    {
     "name": "stdout",
     "output_type": "stream",
     "text": [
      "[(0, 0), (0, 1), (0, 2), (0, 3), (1, 0), (1, 1), (1, 2), (1, 3), (2, 0), (2, 1), (2, 2), (2, 3)]\n",
      "[1, 9, 25, 49, 81]\n"
     ]
    }
   ],
   "source": [
    "# 1\n",
    "ans = []\n",
    "for i in range(3):\n",
    "    for j in range(4):\n",
    "        ans.append((i, j))\n",
    "print(ans)\n",
    "\n",
    "# 2\n",
    "ans = map(lambda x: x * x, filter(lambda x: x % 2 == 1, range(10)))\n",
    "print(list(ans))"
   ]
  },
  {
   "cell_type": "code",
   "execution_count": 2,
   "metadata": {},
   "outputs": [
    {
     "name": "stdout",
     "output_type": "stream",
     "text": [
      "[(0, 0), (0, 1), (0, 2), (0, 3), (1, 0), (1, 1), (1, 2), (1, 3), (2, 0), (2, 1), (2, 2), (2, 3)]\n",
      "[1, 9, 25, 49, 81]\n"
     ]
    }
   ],
   "source": [
    "# 1\n",
    "couples = [(i,j) for i in range(3) for j in range(4)]\n",
    "print(couples)\n",
    "\n",
    "# 2\n",
    "odds_squared = [i*i for i in range(10) if i % 2 == 1]\n",
    "print(odds_squared)"
   ]
  },
  {
   "cell_type": "markdown",
   "metadata": {},
   "source": [
    "2\\. Convert the function $f$ into a function that doesn't use global variables and that does not modify the original list"
   ]
  },
  {
   "cell_type": "code",
   "execution_count": 3,
   "metadata": {},
   "outputs": [
    {
     "name": "stdout",
     "output_type": "stream",
     "text": [
      "[1, 2, 3, 0, 1, 2, 3, 4]\n",
      "[1, 2, 3, 0, 1, 2, 3, 4]\n"
     ]
    }
   ],
   "source": [
    "x = 5\n",
    "def f(alist):\n",
    "    for i in range(x):\n",
    "         alist.append(i)\n",
    "    return alist\n",
    "\n",
    "alist = [1,2,3]\n",
    "ans = f(alist)\n",
    "print(ans)\n",
    "print(alist) # alist has been changed!"
   ]
  },
  {
   "cell_type": "code",
   "execution_count": 4,
   "metadata": {},
   "outputs": [
    {
     "name": "stdout",
     "output_type": "stream",
     "text": [
      "[1, 2, 3, 0, 1, 2, 3, 4]\n",
      "[1, 2, 3]\n"
     ]
    }
   ],
   "source": [
    "def modified_f(alist):\n",
    "    x = 5\n",
    "    blist = alist.copy()\n",
    "    for i in range(x):\n",
    "         blist.append(i)\n",
    "    return blist\n",
    "\n",
    "alist = [1,2,3]\n",
    "ans = modified_f(alist)\n",
    "print(ans)\n",
    "print(alist) # alist has NOT been changed!"
   ]
  },
  {
   "cell_type": "markdown",
   "metadata": {},
   "source": [
    "3\\. Write a `decorator` hello that makes every wrapped function print “Hello!”, i.e. something like:\n",
    "\n",
    "```python\n",
    "@hello\n",
    "def square(x):\n",
    "    return x*x\n",
    "```\n",
    "\n"
   ]
  },
  {
   "cell_type": "code",
   "execution_count": 5,
   "metadata": {},
   "outputs": [
    {
     "name": "stdout",
     "output_type": "stream",
     "text": [
      "Hello!\n",
      "9\n"
     ]
    }
   ],
   "source": [
    "def hello(func):\n",
    "    def wrapper(s):\n",
    "        print(\"Hello!\")\n",
    "        func(s)\n",
    "        return func(s)\n",
    "    return wrapper\n",
    "\n",
    "@hello\n",
    "def square(x):\n",
    "    return x*x\n",
    "\n",
    "print(square(3))"
   ]
  },
  {
   "cell_type": "markdown",
   "metadata": {},
   "source": [
    "4\\. Write the factorial function in two different ways, so that it a) does and b) does not use recursion."
   ]
  },
  {
   "cell_type": "code",
   "execution_count": 6,
   "metadata": {},
   "outputs": [
    {
     "name": "stdout",
     "output_type": "stream",
     "text": [
      "120\n"
     ]
    }
   ],
   "source": [
    "# a)\n",
    "def rec_factorial(n):\n",
    "    if n == 0 or n == 1:   #base case\n",
    "        return 1\n",
    "    return n*rec_factorial(n-1)\n",
    "\n",
    "x = 5\n",
    "print(rec_factorial(x))"
   ]
  },
  {
   "cell_type": "code",
   "execution_count": 7,
   "metadata": {},
   "outputs": [
    {
     "name": "stdout",
     "output_type": "stream",
     "text": [
      "120\n"
     ]
    }
   ],
   "source": [
    "# b)\n",
    "def factorial(n):\n",
    "    fact = 1\n",
    "    for i in range(1, n+1):\n",
    "        fact = fact*i\n",
    "    return fact\n",
    "\n",
    "print(factorial(x))"
   ]
  },
  {
   "cell_type": "markdown",
   "metadata": {},
   "source": [
    "5\\. Use HOFs (zip in particular) to compute the weight of a circle, a disk and a sphere, assuming different radii and different densities:\n",
    "\n",
    "```python\n",
    "densities = {\"Al\" : [0.5, 1, 2], \"Fe\" : [3, 4, 5], \"Pb\" : [15, 20, 30]}\n",
    "radii = [1, 2, 3]\n",
    "```\n",
    "\n",
    "where the entries of the dictionary's values are the linear, superficial and volumetric densities of the materials respectively.\n",
    "\n",
    "Subsequently, define a list using a comprehension with three lambda functions that compute the circumference, the area and the volume for a given radius.\n"
   ]
  },
  {
   "cell_type": "code",
   "execution_count": 8,
   "metadata": {},
   "outputs": [
    {
     "name": "stdout",
     "output_type": "stream",
     "text": [
      "Circle with radius 1 and density 0.5 : 3.141592653589793\n",
      "Disk with radius 2 and density 1 : 12.566370614359172\n",
      "Sphere with radius 3 and density 2 : 226.1946710584651\n",
      "Circle with radius 1 and density 3 : 18.84955592153876\n",
      "Disk with radius 2 and density 4 : 50.26548245743669\n",
      "Sphere with radius 3 and density 5 : 565.4866776461628\n",
      "Circle with radius 1 and density 15 : 94.24777960769379\n",
      "Disk with radius 2 and density 20 : 251.32741228718345\n",
      "Sphere with radius 3 and density 30 : 3392.9200658769764\n",
      "[18.84955592153876, 28.274333882308138, 113.09733552923255]\n"
     ]
    }
   ],
   "source": [
    "from math import pi\n",
    "\n",
    "densities = {\"Al\" : [0.5, 1, 2], \"Fe\" : [3, 4, 5], \"Pb\" : [15, 20, 30]}\n",
    "radii = [1, 2, 3]\n",
    "\n",
    "weight_circle = lambda r: 2*pi*r\n",
    "weight_disk = lambda r: pi*r*r\n",
    "weight_sphere = lambda r: 4/3*pi*r*r*r\n",
    "\n",
    "for key in densities:\n",
    "    for r, d in zip(radii, densities[key]):\n",
    "        if(r==1):\n",
    "            print(\"Circle with radius\", r, \"and density\", d, \":\", weight_circle(r)*d)\n",
    "        if(r==2):\n",
    "            print(\"Disk with radius\", r, \"and density\", d, \":\", weight_disk(r)*d)\n",
    "        if(r==3):\n",
    "            print(\"Sphere with radius\", r, \"and density\", d, \":\", weight_sphere(r)*d)\n",
    "    \n",
    "rad = 3\n",
    "func = [weight_circle(r), weight_disk(r), weight_sphere(r)]\n",
    "print(func)"
   ]
  },
  {
   "cell_type": "markdown",
   "metadata": {},
   "source": [
    "6\\. Edit the class defintion to add an instance attribute of `is_hungry = True` to the Dog class. Then add a method called `eat()` which changes the value of `is_hungry` to `False` when called. Figure out the best way to instantiate the dog objects and to feed the dogs, e.g. call the `eat()` method for all instances. Finally, print “My dogs are hungry.” or “My dogs are not hungry.” if all of them have `is_hungry = True` or `False`, respectively. The final output should look like this:\n",
    "\n",
    "`I have 3 dogs. \n",
    "Tom is 6. \n",
    "Fletcher is 7. \n",
    "Larry is 9. \n",
    "And they're all mammals, of course. \n",
    "My dogs are not hungry.\n",
    "`\n",
    "\n",
    "```python\n",
    "# Parent class\n",
    "class Dog:\n",
    "\n",
    "    # Class attribute\n",
    "    species = 'mammal'\n",
    "\n",
    "    # Initializer / Instance attributes\n",
    "    def __init__(self, name, age):\n",
    "        self.name = name\n",
    "        self.age = age\n",
    "\n",
    "    # instance method\n",
    "    def description(self):\n",
    "        return \"{} is {} years old\".format(self.name, self.age)\n",
    "\n",
    "    # instance method\n",
    "    def speak(self, sound):\n",
    "        return \"{} says {}\".format(self.name, sound)\n",
    "\n",
    "# Child class (inherits from Dog class)\n",
    "class RussellTerrier(Dog):\n",
    "    def run(self, speed):\n",
    "        return \"{} runs {}\".format(self.name, speed)\n",
    "\n",
    "# Child class (inherits from Dog class)\n",
    "class Bulldog(Dog):\n",
    "    def run(self, speed):\n",
    "        return \"{} runs {}\".format(self.name, speed)\n",
    "```"
   ]
  },
  {
   "cell_type": "code",
   "execution_count": 9,
   "metadata": {},
   "outputs": [
    {
     "name": "stdout",
     "output_type": "stream",
     "text": [
      "I have 3 dogs.\n",
      "Tom is 6 years old.\n",
      "Fletcher is 7 years old.\n",
      "Larry is 9 years old.\n",
      "And they are all mammals, of course.\n",
      "My dogs are not hungry.\n"
     ]
    }
   ],
   "source": [
    "# Parent class\n",
    "class Dog:\n",
    "\n",
    "    # Class attribute\n",
    "    species = 'mammal'\n",
    "    is_hungry = True\n",
    "\n",
    "    # Initializer / Instance attributes\n",
    "    def __init__(self, name, age):\n",
    "        self.name = name\n",
    "        self.age = age\n",
    "\n",
    "    # instance method\n",
    "    def description(self):\n",
    "        return \"{} is {} years old\".format(self.name, self.age)\n",
    "\n",
    "    # instance method\n",
    "    def speak(self, sound):\n",
    "        return \"{} says {}\".format(self.name, sound)\n",
    "    \n",
    "    def eat(self):\n",
    "        self.is_hungry = False\n",
    "\n",
    "# Child class (inherits from Dog class)\n",
    "class RussellTerrier(Dog):\n",
    "    def run(self, speed):\n",
    "        return \"{} runs {}\".format(self.name, speed)\n",
    "\n",
    "# Child class (inherits from Dog class)\n",
    "class Bulldog(Dog):\n",
    "    def run(self, speed):\n",
    "        return \"{} runs {}\".format(self.name, speed)\n",
    "\n",
    "    \n",
    "tom = Dog(\"Tom\", 6)\n",
    "fletcher = Dog(\"Fletcher\", 7)\n",
    "larry = Dog(\"Larry\", 9)\n",
    "dogs = [tom, fletcher, larry]\n",
    "\n",
    "for dog in dogs:\n",
    "    dog.eat()\n",
    "    \n",
    "print(\"I have\", len(dogs), \"dogs.\")\n",
    "for dog in dogs:\n",
    "    print(dog.description() + \".\")\n",
    "    \n",
    "mammals = 0\n",
    "for dog in dogs:\n",
    "    if(dog.species == 'mammal'):\n",
    "        mammals = mammals+1\n",
    "        \n",
    "if(mammals == 3):\n",
    "    print(\"And they are all mammals, of course.\")\n",
    "else:\n",
    "    print(\"They are not mammals, this is weird\")\n",
    "\n",
    "not_hungry = 0\n",
    "for dog in dogs:\n",
    "    if(dog.is_hungry == False):\n",
    "        not_hungry = not_hungry+1\n",
    "\n",
    "if(not_hungry == 3):\n",
    "    print(\"My dogs are not hungry.\")"
   ]
  }
 ],
 "metadata": {
  "kernelspec": {
   "display_name": "Python 3",
   "language": "python",
   "name": "python3"
  },
  "language_info": {
   "codemirror_mode": {
    "name": "ipython",
    "version": 3
   },
   "file_extension": ".py",
   "mimetype": "text/x-python",
   "name": "python",
   "nbconvert_exporter": "python",
   "pygments_lexer": "ipython3",
   "version": "3.8.8"
  }
 },
 "nbformat": 4,
 "nbformat_minor": 2
}
